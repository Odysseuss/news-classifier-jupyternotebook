{
 "cells": [
  {
   "cell_type": "code",
   "execution_count": null,
   "metadata": {},
   "outputs": [],
   "source": [
    "from keras.models import Sequential\n",
    "from keras.models import model_from_json\n",
    "import numpy as np\n",
    "import os\n",
    "from sklearn.externals import joblib\n",
    "\n",
    "# Load the saved vectorizer\n",
    "vectorizer = joblib.load('vectorizer.pkl')\n",
    "\n",
    "# Read in the saved configuration\n",
    "json_file = open('model_config.json', 'r')\n",
    "classifier_saved_configuration = json_file.read()\n",
    "json_file.close()\n",
    "\n",
    "# Create the ANN from the saved weights and configuration\n",
    "classifier = model_from_json(classifier_saved_configuration)\n",
    "classifier.load_weights(\"model_weights.h5\")"
   ]
  },
  {
   "cell_type": "code",
   "execution_count": null,
   "metadata": {},
   "outputs": [],
   "source": [
    "# A function that takes in a prediction from our classifier and prints out the\n",
    "# associated category\n",
    "def get_predicted_headline_category(prediction):\n",
    "    type_mapping = {0: 'Business', 1: 'Entertainment', 2: 'Health', 3: 'Science and Technology'}\n",
    "    return type_mapping[prediction.argmax()]\n",
    "\n",
    "# A function to scrape headlines\n",
    "# Thanks to https://www.w3resource.com/python-exercises/basic/python-basic-1-exercise-8.php\n",
    "def get_headlines(url):\n",
    "    from bs4 import BeautifulSoup as soup\n",
    "    from urllib.request import urlopen\n",
    "    Client = urlopen(url)\n",
    "    xml_page = Client.read()\n",
    "    Client.close()\n",
    "\n",
    "    soup_page=soup(xml_page,\"xml\")\n",
    "    items = soup_page.findAll(\"item\")\n",
    "    headlines = []\n",
    "    for item in items:\n",
    "        headlines.append(item.title.text)\n",
    "    return headlines\n",
    "\n",
    "# A function to get a prediction from a headline text\n",
    "def get_prediction(headline):\n",
    "    # Vectorize the headline string such that the classifier can make a prediction\n",
    "    vectorized_headline = vectorizer.transform([headline])\n",
    "    \n",
    "    # Have the model make a prediction\n",
    "    return classifier.predict(vectorized_headline)\n",
    "\n",
    "# A function to print a prediction category along with the headline\n",
    "def print_prediction_category(prediction, headline):\n",
    "    predicted_category = get_predicted_headline_category(prediction)\n",
    "    \n",
    "    # Print [<Prediction>] <Headline>\n",
    "    print(\"[{}] {}\\n\".format(predicted_category, headline))\n",
    "\n",
    "# A function to input a list of headlines and print out the category name and the headline for each input    \n",
    "def batch_prediction(headline_list):\n",
    "    for headline in headline_list:\n",
    "        print_prediction_category(get_prediction(headline), headline)"
   ]
  },
  {
   "cell_type": "code",
   "execution_count": null,
   "metadata": {},
   "outputs": [],
   "source": [
    "# URLS of known topics\n",
    "business_news_url=\"https://news.google.com/news/rss/headlines/section/topic/BUSINESS?ned=us&hl=en&gl=US\"\n",
    "tech_news_url = \"https://news.google.com/news/rss/headlines/section/topic/TECHNOLOGY?ned=us&hl=en&gl=US\"\n",
    "science_news_url = \"https://news.google.com/news/rss/headlines/section/topic/SCIENCE?ned=us&hl=en&gl=US\"\n",
    "health_news_url = \"https://news.google.com/news/rss/headlines/section/topic/HEALTH?ned=us&hl=en&gl=US\"\n",
    "entertainment_news_url = \"https://news.google.com/news/rss/headlines/section/topic/ENTERTAINMENT?ned=us&hl=en&gl=US\""
   ]
  },
  {
   "cell_type": "code",
   "execution_count": null,
   "metadata": {},
   "outputs": [],
   "source": [
    "# Test the loaded model on ground truth data\n",
    "news_dict = {'Business': business_news_url, 'Technology': tech_news_url, 'Science': science_news_url, \n",
    "             'Health': health_news_url, 'Entertainment': entertainment_news_url}\n",
    "\n",
    "for key, value in news_dict.items():\n",
    "    print(\"===========================  {}  ========================================\\n\".format(key))\n",
    "    batch_prediction(get_headlines(value))\n",
    "    print(\"\\n==========================================================================\\n\\n\".format(key))"
   ]
  },
  {
   "cell_type": "code",
   "execution_count": null,
   "metadata": {},
   "outputs": [],
   "source": [
    "np.set_printoptions(precision=3, suppress=True)\n",
    "get_prediction(\"Orlando area may get Wyndham Worldwide headquarters, 200 jobs\")\n"
   ]
  }
 ],
 "metadata": {
  "kernelspec": {
   "display_name": "Python 3",
   "language": "python",
   "name": "python3"
  },
  "language_info": {
   "codemirror_mode": {
    "name": "ipython",
    "version": 3
   },
   "file_extension": ".py",
   "mimetype": "text/x-python",
   "name": "python",
   "nbconvert_exporter": "python",
   "pygments_lexer": "ipython3",
   "version": "3.6.5"
  }
 },
 "nbformat": 4,
 "nbformat_minor": 2
}
