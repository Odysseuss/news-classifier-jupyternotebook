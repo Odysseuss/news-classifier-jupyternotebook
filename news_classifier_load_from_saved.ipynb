{
 "cells": [
  {
   "cell_type": "code",
   "execution_count": 1,
   "metadata": {},
   "outputs": [
    {
     "data": {
      "text/plain": [
       "TfidfVectorizer(analyzer='word', binary=False, decode_error='strict',\n",
       "        dtype=<class 'numpy.int64'>, encoding='utf-8', input='content',\n",
       "        lowercase=True, max_df=0.5, max_features=None, min_df=1,\n",
       "        ngram_range=(1, 1), norm='l2', preprocessor=None, smooth_idf=True,\n",
       "        stop_words=None, strip_accents=None, sublinear_tf=True,\n",
       "        token_pattern='(?u)\\\\b\\\\w\\\\w+\\\\b', tokenizer=None, use_idf=True,\n",
       "        vocabulary=None)"
      ]
     },
     "execution_count": 1,
     "metadata": {},
     "output_type": "execute_result"
    }
   ],
   "source": [
    "from pathlib import Path\n",
    "from zipfile import ZipFile\n",
    "import urllib.request\n",
    "import pandas as pd\n",
    "\n",
    "datafile = Path(\"./newsCorpora.csv\")\n",
    "datazipfile = Path(\"./NewsAggregatorDataset.zip\")\n",
    "urlstring = \"http://archive.ics.uci.edu/ml/machine-learning-databases/00359/NewsAggregatorDataset.zip\"\n",
    "\n",
    "if not datafile.exists():\n",
    "    if not datazipfile.exists():\n",
    "        datazipfile,_ = urllib.request.urlretrieve(urlstring)\n",
    "        print(datazipfile)\n",
    "    with ZipFile(datazipfile, 'r') as zip:\n",
    "            zip.extractall()\n",
    "        \n",
    "\n",
    "\n",
    "dataset = pd.read_csv(datafile, sep='\\t', names=['TITLE', 'URL', 'PUBLISHER', 'CATEGORY', 'STORY', 'HOSTNAME', 'TIMESTAMP'])\n",
    "\n",
    "# Create a helper function perform preprocessing on data\n",
    "from sklearn.feature_extraction.text import TfidfVectorizer\n",
    "\n",
    "vectorizer = TfidfVectorizer(max_df=0.5, sublinear_tf=True)\n",
    "vectorizer.fit(dataset.TITLE)"
   ]
  },
  {
   "cell_type": "code",
   "execution_count": 2,
   "metadata": {},
   "outputs": [
    {
     "name": "stderr",
     "output_type": "stream",
     "text": [
      "/opt/conda/lib/python3.6/site-packages/h5py/__init__.py:36: FutureWarning: Conversion of the second argument of issubdtype from `float` to `np.floating` is deprecated. In future, it will be treated as `np.float64 == np.dtype(float).type`.\n",
      "  from ._conv import register_converters as _register_converters\n",
      "Using TensorFlow backend.\n"
     ]
    }
   ],
   "source": [
    "from keras.models import Sequential\n",
    "from keras.models import model_from_json\n",
    "import os\n",
    "import numpy as np\n",
    "\n",
    "# Read in the saved configuration\n",
    "json_file = open('model_config_20180411-170208.json', 'r')\n",
    "classifier_saved_configuration = json_file.read()\n",
    "json_file.close()\n",
    "\n",
    "classifier = model_from_json(classifier_saved_configuration)\n",
    "classifier.load_weights(\"model_weights_20180411-170208.h5\")\n",
    "\n",
    "classifier.compile(optimizer = 'adam', loss ='categorical_crossentropy', metrics=['accuracy'])\n"
   ]
  },
  {
   "cell_type": "code",
   "execution_count": 3,
   "metadata": {
    "collapsed": true
   },
   "outputs": [],
   "source": [
    "# A function that takes in a prediction from our classifier and prints out the\n",
    "# associated category\n",
    "def get_predicted_headline_category(prediction):\n",
    "    type_mapping = {0: 'Business', 1: 'Entertainment', 2: 'Health', 3: 'Science and Technology'}\n",
    "    return type_mapping[prediction.argmax()]"
   ]
  },
  {
   "cell_type": "code",
   "execution_count": 7,
   "metadata": {},
   "outputs": [
    {
     "name": "stdout",
     "output_type": "stream",
     "text": [
      "[Entertainment] Tristan Thompson: Everything to Know About Khloé Kardashian's Boyfriend Caught in Cheating Scandal\n",
      "\n",
      "[Entertainment] Mariah Carey and bipolar disorder: What is it and how is it treated?\n",
      "\n",
      "[Entertainment] Mitzi Shore, Owner of The Comedy Store and Maker and Breaker of Careers, Dies at 87\n",
      "\n",
      "[Entertainment] This Week's Roseanne Finally Felt Like the Old Roseanne\n",
      "\n",
      "[Entertainment] TV Ratings: 'Roseanne' Stays on Top With 13.5 Million Viewers\n",
      "\n",
      "[Entertainment] Emily Blunt on 'Mary Poppins Returns,' 'A Quiet Place' and 'Edge of Tomorrow 2'\n",
      "\n",
      "[Entertainment] 'Avengers: Infinity War' Beating 'Black Panther' to Set New Presales Record\n",
      "\n",
      "[Entertainment] Ahead Of Her Return, Carrie Underwood's 'Cry Pretty' Does Some Heavy Lifting\n",
      "\n",
      "[Entertainment] Brad Pitt and Neri Oxman: Inside Their Romance\n",
      "\n",
      "[Science and Technology] Cardi B's “Invasion of Privacy” Is as Studious as It Is Bombastic\n",
      "\n",
      "[Entertainment] Seth Meyers slices and dices Trump's latest legal turmoil\n",
      "\n",
      "[Entertainment] Before the movie, 'Rampage' the video game offered destruction without death\n",
      "\n",
      "[Entertainment] Drake Says He'll Rap About Fortnite If Epic Makes A Hotline Bling Emote\n",
      "\n",
      "[Health] Yvonne Staples, Member of the Staple Singers, Dead at 80 After Colon Cancer Battle\n",
      "\n",
      "[Entertainment] George Stephanopoulos is the 'last man standing' on morning TV\n",
      "\n",
      "[Entertainment] Stan Lee Needs a Hero: Elder Abuse Claims and a Battle Over the Aging Marvel Creator\n",
      "\n",
      "[Entertainment] The Walmart Yodeling Kid Performed on Ellen and Melted Hearts All Over Again\n",
      "\n",
      "[Entertainment] First Cosby Witness Says She Woke Up to Him Forcing Himself Into Her Mouth\n",
      "\n",
      "[Entertainment] 'The Walking Dead' VFX Crew Brings Zombies to Life With Traditional Effects\n",
      "\n",
      "[Business] The Undertaker Will Have An Unexpected Dream Match At WWE's Greatest Royal Rumble\n",
      "\n"
     ]
    }
   ],
   "source": [
    "# Scrape some top story article headlines and run them through our classifier\n",
    "# Thanks to https://www.w3resource.com/python-exercises/basic/python-basic-1-exercise-8.php\n",
    "\n",
    "import bs4\n",
    "from bs4 import BeautifulSoup as soup\n",
    "from urllib.request import urlopen\n",
    "\n",
    "# URLS of known topics\n",
    "business_news_url=\"https://news.google.com/news/rss/headlines/section/topic/BUSINESS?ned=us&hl=en&gl=US\"\n",
    "tech_news_url = \"https://news.google.com/news/rss/headlines/section/topic/TECHNOLOGY?ned=us&hl=en&gl=US\"\n",
    "science_news_url = \"https://news.google.com/news/rss/headlines/section/topic/SCIENCE?ned=us&hl=en&gl=US\"\n",
    "health_news_url = \"https://news.google.com/news/rss/headlines/section/topic/HEALTH?ned=us&hl=en&gl=US\"\n",
    "entertainment_news_url = \"https://news.google.com/news/rss/headlines/section/topic/ENTERTAINMENT?ned=us&hl=en&gl=US\"\n",
    "\n",
    "news_url = entertainment_news_url\n",
    "\n",
    "Client = urlopen(news_url)\n",
    "xml_page = Client.read()\n",
    "Client.close()\n",
    "\n",
    "soup_page=soup(xml_page,\"xml\")\n",
    "news_list=soup_page.findAll(\"item\")\n",
    "\n",
    "for news in news_list:\n",
    "    # Store the headline string\n",
    "    headline = news.title.text\n",
    "    \n",
    "    # Vectorize the headline string such that the classifier can make a prediction\n",
    "    vectorized_headline = vectorizer.transform([headline])\n",
    "    \n",
    "    # Make a prediction and get the resulting category\n",
    "    prediction = classifier.predict(vectorized_headline)\n",
    "    predicted_category = get_predicted_headline_category(prediction)\n",
    "    \n",
    "    # Print [<Prediction>] <Headline>\n",
    "    print(\"[{}] {}\\n\".format(predicted_category, headline))"
   ]
  }
 ],
 "metadata": {
  "kernelspec": {
   "display_name": "Python 3",
   "language": "python",
   "name": "python3"
  },
  "language_info": {
   "codemirror_mode": {
    "name": "ipython",
    "version": 3
   },
   "file_extension": ".py",
   "mimetype": "text/x-python",
   "name": "python",
   "nbconvert_exporter": "python",
   "pygments_lexer": "ipython3",
   "version": "3.6.4"
  }
 },
 "nbformat": 4,
 "nbformat_minor": 2
}
