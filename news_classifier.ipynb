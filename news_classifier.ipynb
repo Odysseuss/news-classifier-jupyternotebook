{
 "cells": [
  {
   "cell_type": "code",
   "execution_count": 9,
   "metadata": {},
   "outputs": [],
   "source": [
    "import pandas as pd\n",
    "import numpy as np\n",
    "import os\n",
    "from keras.utils import get_file\n",
    "\n",
    "dataset_archive_file = \"NewsAggregatorDataset.zip\"\n",
    "data_archive_url = \"http://archive.ics.uci.edu/ml/machine-learning-databases/00359/\" + dataset_archive_file\n",
    "datafile = \"newsCorpora.csv\"\n",
    "\n",
    "download = get_file(fname = datasetArchiveFile,\n",
    "                    origin = url,\n",
    "                    extract = True)\n",
    "\n",
    "dataset = pd.read_csv(os.path.join(os.path.dirname(download), datafile), \n",
    "                      sep='\\t', \n",
    "                      names=['TITLE', 'URL', 'PUBLISHER', 'CATEGORY', 'STORY', 'HOSTNAME', 'TIMESTAMP'])"
   ]
  },
  {
   "cell_type": "code",
   "execution_count": null,
   "metadata": {},
   "outputs": [],
   "source": [
    "# Pick our feature set (X) and what we are trying to predict (y)\n",
    "X = dataset.TITLE\n",
    "y = dataset.CATEGORY"
   ]
  },
  {
   "cell_type": "code",
   "execution_count": null,
   "metadata": {},
   "outputs": [],
   "source": [
    "# Split the data randomly for validation and test\n",
    "from sklearn.model_selection import train_test_split\n",
    "\n",
    "X_train, X_test, y_train, y_test = train_test_split(X, y, test_size=0.1)\n",
    "\n",
    "X_test, X_val, y_test, y_val = train_test_split(X_test, y_test, test_size=0.05)"
   ]
  },
  {
   "cell_type": "code",
   "execution_count": null,
   "metadata": {},
   "outputs": [],
   "source": [
    "# Create a vectorizer for the healines\n",
    "from sklearn.feature_extraction.text import TfidfVectorizer\n",
    "from sklearn.externals import joblib\n",
    "\n",
    "vectorizer = TfidfVectorizer(max_df=0.5, sublinear_tf=True, stop_words='english')\n",
    "vectorizer.fit(dataset.TITLE)\n",
    "\n",
    "# Save the vectorizer for use in loading saved model\n",
    "joblib.dump(vectorizer, 'vectorizer.pkl')"
   ]
  },
  {
   "cell_type": "code",
   "execution_count": null,
   "metadata": {},
   "outputs": [],
   "source": [
    "# Create a helper function perform preprocessing on data\n",
    "def process_data(X, y, vectorizer):\n",
    "    y = pd.get_dummies(y)\n",
    "    X = vectorizer.transform(X)\n",
    "    return X, y\n",
    "\n",
    "# Process the training data\n",
    "X_train.to_csv('X_train.csv')\n",
    "y_train.to_csv('y_train.csv')\n",
    "X_train, y_train = process_data(X_train, y_train, vectorizer)\n",
    "\n",
    "# Process the validation data\n",
    "X_val.to_csv('X_val.csv')\n",
    "y_val.to_csv('y_val.csv')\n",
    "X_val, y_val = process_data(X_val, y_val, vectorizer)\n",
    "\n",
    "# Process the test data for validation\n",
    "X_test.to_csv('X_test.csv')\n",
    "y_test.to_csv('y_test.csv')\n",
    "X_test, y_test = process_data(X_test, y_test, vectorizer)"
   ]
  },
  {
   "cell_type": "markdown",
   "metadata": {},
   "source": [
    "<center>\n",
    "<h1>Artificial Neural Network Architecture</h1>\n",
    "<img src=\"http://neuralnetworksanddeeplearning.com/images/tikz11.png\"/>\n",
    "</center>\n",
    "<footer>image source http://neuralnetworksanddeeplearning.com</footer>"
   ]
  },
  {
   "cell_type": "code",
   "execution_count": null,
   "metadata": {},
   "outputs": [],
   "source": [
    "# Create the ANN\n",
    "from keras.models import Sequential\n",
    "from keras.layers import Dense\n",
    "from keras.layers import Dropout\n",
    "\n",
    "classifier = Sequential()\n",
    "\n",
    "\n",
    "classifier.add(Dense(units = 64, activation='relu', \n",
    "                     kernel_initializer = 'uniform',\n",
    "                     input_shape = (54345,)))\n",
    "\n",
    "\n",
    "classifier.add(Dense(units = 32, activation='relu', \n",
    "                     kernel_initializer='uniform'))\n",
    "classifier.add(Dropout(rate = .3))\n",
    "\n",
    "classifier.add(Dense(units =32, activation='relu', \n",
    "                     kernel_initializer='uniform'))\n",
    "classifier.add(Dropout(rate = .3))\n",
    "\n",
    "classifier.add(Dense(units =32, activation='relu', \n",
    "                     kernel_initializer='uniform'))\n",
    "classifier.add(Dropout(rate = .2))\n",
    "\n",
    "classifier.add(Dense(units =32, activation='relu', \n",
    "                     kernel_initializer='uniform'))\n",
    "classifier.add(Dropout(rate = .2))\n",
    "\n",
    "\n",
    "# Output Layer. Four output nodes for our four classification types of news headlines.\n",
    "classifier.add(Dense(units = 4, activation='softmax', \n",
    "                     kernel_initializer='uniform'))\n",
    "\n",
    "classifier.compile(optimizer = 'rmsprop', loss ='categorical_crossentropy', metrics=['accuracy'])\n"
   ]
  },
  {
   "cell_type": "code",
   "execution_count": null,
   "metadata": {},
   "outputs": [],
   "source": [
    "from keras import callbacks\n",
    "\n",
    "terminateOnNanCallback = callbacks.TerminateOnNaN()\n",
    "tbCallback = callbacks.TensorBoard(log_dir='./logs', histogram_freq=0, write_graph=True, write_images=True)\n",
    "earlyStopCallback = callbacks.EarlyStopping(monitor='val_acc', patience=3)\n",
    "\n"
   ]
  },
  {
   "cell_type": "code",
   "execution_count": null,
   "metadata": {},
   "outputs": [],
   "source": [
    "# Fit the ANN to the training data\n",
    "history = classifier.fit(X_train, y_train, validation_data = (X_val, y_val), \n",
    "                         callbacks = [tbCallback, terminateOnNanCallback, earlyStopCallback], \n",
    "                         epochs=100, batch_size=64)"
   ]
  },
  {
   "cell_type": "code",
   "execution_count": null,
   "metadata": {},
   "outputs": [],
   "source": [
    "# Validate the ANN\n",
    "scores = classifier.evaluate(X_test, y_test)\n",
    "print(\"Model accuracy on test data = {} \".format(scores[1]))"
   ]
  },
  {
   "cell_type": "code",
   "execution_count": null,
   "metadata": {},
   "outputs": [],
   "source": [
    "# Create files to store model configuration and weights\n",
    "# such that the model can be built back up from the files\n",
    "# rather than having to retrain.\n",
    "# Thanks to https://machinelearningmastery.com/save-load-keras-deep-learning-models/\n",
    "import time\n",
    "timestr = time.strftime(\"%Y%m%d-%H%M%S\")\n",
    "config_filename = \"model_config_\" + timestr + \".json\"\n",
    "weights_filename = \"model_weights_\" + timestr + \".h5\"\n",
    "\n",
    "# Serialize model to JSON\n",
    "classifier_json = classifier.to_json()\n",
    "with open(config_filename, \"w\") as json_file:\n",
    "    json_file.write(classifier_json)\n",
    "\n",
    "# Serialize weights to HDF5\n",
    "classifier.save_weights(weights_filename)"
   ]
  }
 ],
 "metadata": {
  "kernelspec": {
   "display_name": "Python 3",
   "language": "python",
   "name": "python3"
  },
  "language_info": {
   "codemirror_mode": {
    "name": "ipython",
    "version": 3
   },
   "file_extension": ".py",
   "mimetype": "text/x-python",
   "name": "python",
   "nbconvert_exporter": "python",
   "pygments_lexer": "ipython3",
   "version": "3.6.5"
  }
 },
 "nbformat": 4,
 "nbformat_minor": 2
}
