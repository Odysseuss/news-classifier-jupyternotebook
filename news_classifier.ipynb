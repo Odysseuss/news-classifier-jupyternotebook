{
 "cells": [
  {
   "cell_type": "code",
   "execution_count": null,
   "metadata": {
    "collapsed": true
   },
   "outputs": [],
   "source": [
    "import pandas as pd\n",
    "import numpy as np\n",
    "from pathlib import Path\n",
    "from zipfile import ZipFile\n",
    "import urllib.request\n",
    "\n",
    "\n",
    "datafile = Path(\"./newsCorpora.csv\")\n",
    "datazipfile = Path(\"./NewsAggregatorDataset.zip\")\n",
    "urlstring = \"http://archive.ics.uci.edu/ml/machine-learning-databases/00359/NewsAggregatorDataset.zip\"\n",
    "\n",
    "if not datafile.exists():\n",
    "    if not datazipfile.exists():\n",
    "        datazipfile,_ = urllib.request.urlretrieve(urlstring)\n",
    "        print(datazipfile)\n",
    "    with ZipFile(datazipfile, 'r') as zip:\n",
    "            zip.extractall()\n",
    "        \n",
    "\n",
    "\n",
    "dataset = pd.read_csv(datafile, sep='\\t', names=['TITLE', 'URL', 'PUBLISHER', 'CATEGORY', 'STORY', 'HOSTNAME', 'TIMESTAMP'])"
   ]
  },
  {
   "cell_type": "code",
   "execution_count": null,
   "metadata": {},
   "outputs": [],
   "source": [
    "print(\"{} observations\".format(dataset.shape[0]))\n",
    "print(\"{} unique sites from which the training data was extrapolated\".format(len(dataset.HOSTNAME.unique())))"
   ]
  },
  {
   "cell_type": "code",
   "execution_count": null,
   "metadata": {
    "collapsed": true
   },
   "outputs": [],
   "source": [
    "# Pick our feature set (X) and what we are trying to predict (y)\n",
    "X = dataset.TITLE\n",
    "y = dataset.CATEGORY"
   ]
  },
  {
   "cell_type": "code",
   "execution_count": null,
   "metadata": {},
   "outputs": [],
   "source": [
    "print(\"\\t\\t Sample of X\\n\")\n",
    "print(X.sample(5))\n",
    "print(\"\\n\\n\\t\\t Sample of y (No relation to the X sample)\\n\")\n",
    "print(y.sample(5))"
   ]
  },
  {
   "cell_type": "code",
   "execution_count": null,
   "metadata": {
    "collapsed": true
   },
   "outputs": [],
   "source": [
    "# Split the data randomly for validation\n",
    "from sklearn.model_selection import train_test_split\n",
    "\n",
    "X_train, X_test, y_train, y_test = train_test_split(X, y, test_size=0.2)"
   ]
  },
  {
   "cell_type": "code",
   "execution_count": null,
   "metadata": {
    "collapsed": true
   },
   "outputs": [],
   "source": [
    "# Create a helper function perform preprocessing on data\n",
    "from sklearn.feature_extraction.text import TfidfVectorizer\n",
    "\n",
    "vectorizer = TfidfVectorizer(max_df=0.5, sublinear_tf=True)\n",
    "vectorizer.fit(dataset.TITLE)\n",
    "\n",
    "def process_data(X, y, vectorizer):\n",
    "    y = pd.get_dummies(y)\n",
    "    X = vectorizer.transform(X)\n",
    "    return X, y\n",
    "    "
   ]
  },
  {
   "cell_type": "code",
   "execution_count": null,
   "metadata": {
    "collapsed": true
   },
   "outputs": [],
   "source": [
    "# Process the training data\n",
    "X_train, y_train = process_data(X_train, y_train, vectorizer)"
   ]
  },
  {
   "cell_type": "code",
   "execution_count": null,
   "metadata": {},
   "outputs": [],
   "source": [
    "# Inspect the processed training data\n",
    "print(\"X_train.shape = {}\\n\\n\".format(X_train.shape))\n",
    "print(y_train.sample(5))"
   ]
  },
  {
   "cell_type": "code",
   "execution_count": null,
   "metadata": {},
   "outputs": [],
   "source": [
    "# Create the ANN\n",
    "from keras.models import Sequential\n",
    "from keras.layers import Dense\n",
    "from keras.layers import Dropout\n",
    "\n",
    "classifier = Sequential()\n",
    "\n",
    "# Input layer\n",
    "classifier.add(Dense(units = 512, activation='relu', \n",
    "                     kernel_initializer = 'uniform',\n",
    "                     input_shape = (54637,)))\n",
    "\n",
    "# Four Hidden Layers\n",
    "classifier.add(Dense(units =512, activation='relu', \n",
    "                     kernel_initializer='uniform'))\n",
    "classifier.add(Dropout(rate = 0.4))\n",
    "classifier.add(Dense(units =128, activation='relu', \n",
    "                     kernel_initializer='uniform'))\n",
    "classifier.add(Dropout(rate = 0.2))\n",
    "classifier.add(Dense(units =128, activation='relu', \n",
    "                     kernel_initializer='uniform'))\n",
    "classifier.add(Dropout(rate = 0.4))\n",
    "classifier.add(Dense(units =128, activation='relu', \n",
    "                     kernel_initializer='uniform'))\n",
    "classifier.add(Dropout(rate = 0.4))\n",
    "\n",
    "# Output Layer. Four output nodes for our four classification types of news headlines.\n",
    "classifier.add(Dense(units = 4, activation='softmax', \n",
    "                     kernel_initializer='uniform'))\n",
    "\n",
    "classifier.compile(optimizer = 'adam', loss ='categorical_crossentropy', metrics=['accuracy'])\n"
   ]
  },
  {
   "cell_type": "code",
   "execution_count": null,
   "metadata": {},
   "outputs": [],
   "source": [
    "# Fit the ANN to the training data\n",
    "classifier.fit(X_train, y_train, epochs=5, batch_size=128)"
   ]
  },
  {
   "cell_type": "code",
   "execution_count": null,
   "metadata": {
    "collapsed": true
   },
   "outputs": [],
   "source": [
    "# Process the test data for validation\n",
    "X_test, y_test = process_data(X_test, y_test, vectorizer)"
   ]
  },
  {
   "cell_type": "code",
   "execution_count": null,
   "metadata": {
    "collapsed": true
   },
   "outputs": [],
   "source": [
    "# Validate the ANN\n",
    "scores = classifier.evaluate(X_test, y_test)\n",
    "print(\"Model accuracy on test data = {} \".format(scores[1]))"
   ]
  },
  {
   "cell_type": "code",
   "execution_count": null,
   "metadata": {},
   "outputs": [],
   "source": [
    "# Create files to store model configuration and weights\n",
    "# such that the model can be built back up from the files\n",
    "# rather than having to retrain.\n",
    "# Thanks to https://machinelearningmastery.com/save-load-keras-deep-learning-models/\n",
    "import time\n",
    "timestr = time.strftime(\"%Y%m%d-%H%M%S\")\n",
    "config_filename = \"model_config_\" + timestr + \".json\"\n",
    "weights_filename = \"model_weights_\" + timestr + \".h5\"\n",
    "\n",
    "# Serialize model to JSON\n",
    "classifier_json = classifier.to_json()\n",
    "with open(config_filename, \"w\") as json_file:\n",
    "    json_file.write(classifier_json)\n",
    "\n",
    "# Serialize weights to HDF5\n",
    "classifier.save_weights(weights_filename)"
   ]
  },
  {
   "cell_type": "code",
   "execution_count": null,
   "metadata": {
    "collapsed": true
   },
   "outputs": [],
   "source": [
    "# A function that takes in a prediction from our classifier and prints out the\n",
    "# associated category\n",
    "def get_predicted_headline_category(prediction):\n",
    "    type_mapping = {0: 'Business', 1: 'Entertainment', 2: 'Health', 3: 'Science and Technology'}\n",
    "    return type_mapping[prediction.argmax()]"
   ]
  },
  {
   "cell_type": "code",
   "execution_count": null,
   "metadata": {},
   "outputs": [],
   "source": [
    "# Scrape some top story article headlines and run them through our classifier\n",
    "# Thanks to https://www.w3resource.com/python-exercises/basic/python-basic-1-exercise-8.php\n",
    "\n",
    "import bs4\n",
    "from bs4 import BeautifulSoup as soup\n",
    "from urllib.request import urlopen\n",
    "\n",
    "# URLS of known topics\n",
    "business_news_url=\"https://news.google.com/news/rss/headlines/section/topic/BUSINESS?ned=us&hl=en&gl=US\"\n",
    "tech_news_url = \"https://news.google.com/news/rss/headlines/section/topic/TECHNOLOGY?ned=us&hl=en&gl=US\"\n",
    "science_news_url = \"https://news.google.com/news/rss/headlines/section/topic/SCIENCE?ned=us&hl=en&gl=US\"\n",
    "health_news_url = \"https://news.google.com/news/rss/headlines/section/topic/HEALTH?ned=us&hl=en&gl=US\"\n",
    "entertainment_news_url = \"https://news.google.com/news/rss/headlines/section/topic/ENTERTAINMENT?ned=us&hl=en&gl=US\"\n",
    "\n",
    "news_url = tech_news_url\n",
    "\n",
    "Client = urlopen(news_url)\n",
    "xml_page = Client.read()\n",
    "Client.close()\n",
    "\n",
    "soup_page=soup(xml_page,\"xml\")\n",
    "news_list=soup_page.findAll(\"item\")\n",
    "\n",
    "for news in news_list:\n",
    "    # Store the headline string\n",
    "    headline = news.title.text\n",
    "    \n",
    "    # Vectorize the headline string such that the classifier can make a prediction\n",
    "    vectorized_headline = vectorizer.transform([headline])\n",
    "    \n",
    "    # Make a prediction and get the resulting category\n",
    "    prediction = classifier.predict(vectorized_headline)\n",
    "    predicted_category = get_predicted_headline_category(prediction)\n",
    "    \n",
    "    # Print [<Prediction>] <Headline>\n",
    "    print(\"[{}] {}\\n\".format(predicted_category, headline))"
   ]
  },
  {
   "cell_type": "code",
   "execution_count": null,
   "metadata": {},
   "outputs": [],
   "source": [
    "headline = \"Orlando area may get Wyndham Worldwide headquarters, 200 jobs\"\n",
    "# Vectorize the headline string such that the classifier can make a prediction\n",
    "vectorized_headline = vectorizer.transform([headline])\n",
    "    \n",
    "# Make a prediction and get the resulting category\n",
    "prediction = classifier.predict(vectorized_headline)\n",
    "predicted_category = get_predicted_headline_category(prediction)\n",
    "    \n",
    "# Print [<Prediction>] <Headline>\n",
    "print(\"[{}] {} \\n\".format(predicted_category, headline))\n"
   ]
  }
 ],
 "metadata": {
  "kernelspec": {
   "display_name": "Python 3",
   "language": "python",
   "name": "python3"
  },
  "language_info": {
   "codemirror_mode": {
    "name": "ipython",
    "version": 3
   },
   "file_extension": ".py",
   "mimetype": "text/x-python",
   "name": "python",
   "nbconvert_exporter": "python",
   "pygments_lexer": "ipython3",
   "version": "3.6.4"
  }
 },
 "nbformat": 4,
 "nbformat_minor": 2
}
